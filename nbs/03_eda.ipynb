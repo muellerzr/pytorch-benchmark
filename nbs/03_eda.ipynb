{
 "cells": [
  {
   "cell_type": "markdown",
   "id": "3dc5bdcd-53b8-4757-af87-a19fdef9cc41",
   "metadata": {},
   "source": [
    "# EDA\n",
    "> Exploratory analysis of the results"
   ]
  },
  {
   "cell_type": "code",
   "execution_count": 2,
   "id": "185884d6-5ee8-478b-b1d5-a2148a08bbc5",
   "metadata": {},
   "outputs": [],
   "source": [
    "import pandas as pd\n",
    "from fastcore.xtras import Path"
   ]
  },
  {
   "cell_type": "code",
   "execution_count": 26,
   "id": "0374bc46-3827-4750-b5e0-73ab803310dc",
   "metadata": {},
   "outputs": [],
   "source": [
    "report_path = Path(\"../scripts/reports/nlp_script_accelerate/\")"
   ]
  },
  {
   "cell_type": "code",
   "execution_count": 27,
   "id": "738d4903-9433-4038-9b27-0edbcaa3575f",
   "metadata": {},
   "outputs": [
    {
     "data": {
      "text/plain": [
       "Path('../scripts/reports/nlp_script_accelerate/multi_gpu_adjusted_bs')"
      ]
     },
     "execution_count": 27,
     "metadata": {},
     "output_type": "execute_result"
    }
   ],
   "source": [
    "initial = report_path.ls()[0]; initial"
   ]
  },
  {
   "cell_type": "code",
   "execution_count": 45,
   "id": "fa7cf820-5254-49fb-87b2-f195972ec7da",
   "metadata": {},
   "outputs": [],
   "source": [
    "columns = [\"accelerator\", \"num_processes\", \"iteration\", \"learning_rate\", \"train_batch_size\", \"validation_batch_size\"]\n",
    "for i in range(1,4):\n",
    "    columns.append(f\"epoch_{i}_accuracy\")\n",
    "    columns.append(f\"epoch_{i}_f1\")\n",
    "    columns.append(f'epoch_{i}_train_time')\n",
    "    columns.append(f'epoch_{i}_validation_time')\n",
    "columns += [\"total_time\"]"
   ]
  },
  {
   "cell_type": "code",
   "execution_count": 55,
   "id": "87a218c3-4dfa-4145-bb5d-fdba0efea5ba",
   "metadata": {},
   "outputs": [],
   "source": [
    "df = pd.DataFrame(columns=columns)"
   ]
  },
  {
   "cell_type": "code",
   "execution_count": 56,
   "id": "2ddc909a-ae92-428a-90d8-ebdf0740463b",
   "metadata": {},
   "outputs": [],
   "source": [
    "def process_one(df, path):\n",
    "    for i,file in enumerate(Path(path).ls()):\n",
    "        if file.is_file():\n",
    "            j = file.read_json()\n",
    "            data = [j[\"training_device\"], j[\"num_devices\"], i, j[\"lr\"], j[\"train_batch_size\"], j[\"eval_batch_size\"]]\n",
    "            mets = j[\"metrics\"]\n",
    "            speeds = j[\"speeds\"]\n",
    "            for i in range(3):\n",
    "                data += [mets[i][\"accuracy\"], mets[i][\"f1\"]]\n",
    "                data += [speeds[\"training\"][\"times\"][i], speeds[\"evaluation\"][\"times\"][i]]\n",
    "            data += [speeds[\"total\"]]\n",
    "            df.loc[len(df.index)] = data\n",
    "    return df"
   ]
  },
  {
   "cell_type": "code",
   "execution_count": 57,
   "id": "9cc7bb31-3778-4bf7-87ab-7a05af460d49",
   "metadata": {},
   "outputs": [],
   "source": [
    "for folder in Path(\"../scripts/reports/nlp_script_accelerate\").ls():\n",
    "    if not folder.is_file():\n",
    "        df = process_one(df, folder)"
   ]
  },
  {
   "cell_type": "code",
   "execution_count": 59,
   "id": "1a7d4bd5-2237-4ea0-b651-cc63790ac386",
   "metadata": {},
   "outputs": [],
   "source": [
    "df.to_csv(\"../scripts/reports/nlp_script_accelerate/results.csv\")"
   ]
  },
  {
   "cell_type": "code",
   "execution_count": null,
   "id": "5c2cebea-bc2b-4b9d-bc5f-23e3b5786de1",
   "metadata": {},
   "outputs": [],
   "source": []
  }
 ],
 "metadata": {
  "kernelspec": {
   "display_name": "Python 3 (ipykernel)",
   "language": "python",
   "name": "python3"
  },
  "language_info": {
   "codemirror_mode": {
    "name": "ipython",
    "version": 3
   },
   "file_extension": ".py",
   "mimetype": "text/x-python",
   "name": "python",
   "nbconvert_exporter": "python",
   "pygments_lexer": "ipython3",
   "version": "3.9.7"
  }
 },
 "nbformat": 4,
 "nbformat_minor": 5
}
