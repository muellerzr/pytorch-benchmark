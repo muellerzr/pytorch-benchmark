{
 "cells": [
  {
   "cell_type": "code",
   "execution_count": 1,
   "id": "b2844eec-e535-46ce-ae57-495e39b95d95",
   "metadata": {},
   "outputs": [],
   "source": [
    "#default_exp utils"
   ]
  },
  {
   "cell_type": "markdown",
   "id": "8d8ccf59-d1d3-4aff-b427-ce05e594fe4a",
   "metadata": {},
   "source": [
    "# Basic utilities\n",
    "> Utilities for distributed training"
   ]
  },
  {
   "cell_type": "code",
   "execution_count": 3,
   "id": "fbaeb8ea-e2a4-438f-b0ad-2b9e158bf3d5",
   "metadata": {},
   "outputs": [],
   "source": [
    "#export\n",
    "from pytorch_benchmark.imports import is_tpu_available, is_multigpu_available\n",
    "import os\n",
    "\n",
    "if is_tpu_available(False):\n",
    "    import torch_xla.core.xla_model as xm"
   ]
  },
  {
   "cell_type": "code",
   "execution_count": 4,
   "id": "9675ad93-dbab-4a18-ac9b-fa8b97e9cc33",
   "metadata": {},
   "outputs": [],
   "source": [
    "#export\n",
    "def get_process_index():\n",
    "    \"Gets the local process index\"\n",
    "    if is_tpu_available():\n",
    "        return xm.get_local_ordinal()\n",
    "    elif is_multigpu_available():\n",
    "        return int(os.environ.get(\"LOCAL_RANK\", -1))\n",
    "    return 0"
   ]
  },
  {
   "cell_type": "code",
   "execution_count": 5,
   "id": "dce308d5-7393-412a-ae28-8692ee22d34e",
   "metadata": {},
   "outputs": [
    {
     "name": "stdout",
     "output_type": "stream",
     "text": [
      "Converted 00_imports.ipynb.\n",
      "Converted 01_prepare.ipynb.\n",
      "Converted index.ipynb.\n",
      "Converted utils.ipynb.\n"
     ]
    }
   ],
   "source": [
    "#hide\n",
    "from nbdev.export import notebook2script\n",
    "notebook2script()"
   ]
  },
  {
   "cell_type": "code",
   "execution_count": null,
   "id": "86ad6c27-2a96-49ac-b0fb-6da5eac46b2d",
   "metadata": {},
   "outputs": [],
   "source": []
  }
 ],
 "metadata": {
  "kernelspec": {
   "display_name": "Python 3 (ipykernel)",
   "language": "python",
   "name": "python3"
  },
  "language_info": {
   "codemirror_mode": {
    "name": "ipython",
    "version": 3
   },
   "file_extension": ".py",
   "mimetype": "text/x-python",
   "name": "python",
   "nbconvert_exporter": "python",
   "pygments_lexer": "ipython3",
   "version": "3.9.7"
  }
 },
 "nbformat": 4,
 "nbformat_minor": 5
}
